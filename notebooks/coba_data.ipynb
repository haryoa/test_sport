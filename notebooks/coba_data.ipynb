{
 "cells": [
  {
   "cell_type": "code",
   "execution_count": 18,
   "metadata": {},
   "outputs": [],
   "source": [
    "import torch"
   ]
  },
  {
   "cell_type": "code",
   "execution_count": 19,
   "metadata": {},
   "outputs": [],
   "source": [
    "from torch.utils.data import Dataset\n",
    "import numpy as np"
   ]
  },
  {
   "cell_type": "code",
   "execution_count": 20,
   "metadata": {},
   "outputs": [],
   "source": [
    "class MeongDataset(Dataset):\n",
    "\n",
    "    def __init__(self):\n",
    "        self.array = np.random.randn(5,3,256,256)\n",
    "    \n",
    "    def __len__(self):\n",
    "        return 5\n",
    "    \n",
    "    def __getitem__(self, idx):\n",
    "        return {\n",
    "            'a': torch.Tensor(self.array[idx]),\n",
    "            'b': 2\n",
    "        }"
   ]
  },
  {
   "cell_type": "code",
   "execution_count": 21,
   "metadata": {},
   "outputs": [],
   "source": [
    "test = MeongDataset()"
   ]
  },
  {
   "cell_type": "code",
   "execution_count": 23,
   "metadata": {},
   "outputs": [],
   "source": [
    "from torch.utils.data import DataLoader"
   ]
  },
  {
   "cell_type": "code",
   "execution_count": 24,
   "metadata": {},
   "outputs": [],
   "source": [
    "k = DataLoader(test, 2)"
   ]
  },
  {
   "cell_type": "code",
   "execution_count": 26,
   "metadata": {},
   "outputs": [
    {
     "data": {
      "text/plain": [
       "{'a': tensor([[[[-2.0193e+00, -3.4877e-01,  1.1415e+00,  ..., -4.2200e-01,\n",
       "             6.6023e-01,  1.7311e+00],\n",
       "           [-4.6813e-01,  8.5502e-01, -1.0359e+00,  ...,  4.1712e-01,\n",
       "             5.8005e-01, -6.5510e-01],\n",
       "           [ 4.5527e-01,  1.6570e+00, -2.1964e-01,  ..., -1.3155e+00,\n",
       "             4.2468e-01, -4.9241e-01],\n",
       "           ...,\n",
       "           [ 1.8534e-01,  1.1404e+00, -4.2122e-01,  ..., -4.9293e-01,\n",
       "             3.0525e-01,  6.3510e-03],\n",
       "           [-7.7485e-01, -1.1629e+00, -7.6482e-01,  ...,  9.4613e-01,\n",
       "             7.6907e-01, -2.0592e-01],\n",
       "           [ 3.7573e-01, -4.6466e-01,  9.6832e-01,  ..., -6.8509e-01,\n",
       "             1.0732e+00,  7.1894e-01]],\n",
       " \n",
       "          [[-1.6130e+00,  2.3536e-01, -2.3252e+00,  ..., -8.7961e-01,\n",
       "             1.1525e+00,  2.3358e-01],\n",
       "           [-1.8206e+00, -6.7250e-01,  6.0891e-01,  ..., -1.0500e+00,\n",
       "            -1.4775e+00,  1.9986e+00],\n",
       "           [ 8.8497e-01, -7.2497e-01, -3.2930e-01,  ...,  4.6643e-01,\n",
       "             8.6756e-02, -7.1330e-01],\n",
       "           ...,\n",
       "           [ 1.0474e+00, -9.3543e-01, -5.5506e-01,  ...,  3.6532e-01,\n",
       "            -5.7726e-01,  7.9017e-02],\n",
       "           [ 1.2215e+00, -9.6687e-01, -2.4621e-01,  ..., -1.0389e+00,\n",
       "             1.7911e-03, -4.1867e-01],\n",
       "           [ 4.3623e-01,  1.2562e-01,  1.4769e+00,  ...,  3.0153e-03,\n",
       "             6.3086e-01,  1.3588e-01]],\n",
       " \n",
       "          [[-8.2752e-01,  6.4951e-01, -1.1373e+00,  ...,  4.2694e-01,\n",
       "             4.6763e-01, -9.8566e-01],\n",
       "           [ 1.4712e+00, -1.1587e-01,  2.0959e-01,  ...,  1.5510e+00,\n",
       "            -1.7454e+00, -6.4287e-01],\n",
       "           [ 7.3876e-01, -2.7518e-01,  2.2139e-01,  ...,  4.4495e-01,\n",
       "             7.1872e-01,  3.4413e-01],\n",
       "           ...,\n",
       "           [ 1.0506e+00, -6.0677e-01,  3.9670e-01,  ...,  1.1277e+00,\n",
       "             1.1536e+00, -3.2528e-01],\n",
       "           [ 8.1459e-01,  6.0711e-01,  1.0424e+00,  ..., -1.9022e+00,\n",
       "            -8.5849e-01,  1.6070e+00],\n",
       "           [ 1.0910e+00,  6.8811e-02, -1.2294e+00,  ..., -9.1969e-01,\n",
       "            -9.6381e-01,  9.9505e-01]]],\n",
       " \n",
       " \n",
       "         [[[-6.4550e-01,  3.3006e-01, -5.2751e-01,  ...,  9.8319e-01,\n",
       "            -2.2699e-01,  9.1694e-01],\n",
       "           [-9.8995e-01,  7.7517e-01, -1.3760e+00,  ...,  1.3552e-01,\n",
       "             2.5431e+00, -1.2767e-01],\n",
       "           [ 6.7228e-01,  8.3962e-01,  2.1552e-01,  ..., -5.1535e-02,\n",
       "            -1.2642e+00, -1.0980e+00],\n",
       "           ...,\n",
       "           [-1.0644e+00,  3.9107e-01, -3.7114e-01,  ...,  1.5942e+00,\n",
       "             1.3457e-01,  1.4530e+00],\n",
       "           [-1.1479e+00,  9.5395e-01, -1.6464e-01,  ...,  1.2474e-01,\n",
       "             1.2534e+00,  2.0708e+00],\n",
       "           [ 3.7527e-01,  2.6857e+00, -1.5936e+00,  ..., -1.1152e+00,\n",
       "            -5.3501e-01, -3.0291e-01]],\n",
       " \n",
       "          [[-9.1847e-01, -8.8959e-01,  8.0630e-02,  ...,  8.7151e-01,\n",
       "             2.1567e-01,  5.4333e-01],\n",
       "           [ 7.0534e-01,  1.2829e+00, -9.4322e-01,  ..., -7.1209e-01,\n",
       "             9.8658e-01,  1.3355e+00],\n",
       "           [ 1.4628e+00, -7.5225e-01,  3.0286e-01,  ..., -4.5046e-01,\n",
       "             5.4887e-01, -2.1903e+00],\n",
       "           ...,\n",
       "           [ 5.4563e-01,  1.4950e-01,  8.0795e-01,  ..., -6.5055e-02,\n",
       "             1.8538e+00, -9.5819e-01],\n",
       "           [-4.4787e-01,  1.1469e+00,  2.7428e-02,  ..., -1.2859e+00,\n",
       "            -1.5123e+00, -2.0425e+00],\n",
       "           [ 1.9960e-01, -2.8179e-01,  1.4523e-01,  ...,  1.2657e+00,\n",
       "             1.2922e+00, -1.1920e+00]],\n",
       " \n",
       "          [[-3.0294e-01, -1.0463e+00, -1.0852e+00,  ...,  2.4109e-01,\n",
       "             1.6523e+00, -9.8695e-02],\n",
       "           [ 7.8205e-01, -1.3194e+00,  5.7352e-02,  ...,  9.2896e-01,\n",
       "            -4.3595e-01, -9.5265e-01],\n",
       "           [ 6.9935e-01,  2.7798e-01, -1.7115e+00,  ..., -2.7541e-01,\n",
       "            -2.4670e+00,  2.7446e-01],\n",
       "           ...,\n",
       "           [-3.9066e-01,  3.6901e-01,  3.9456e-01,  ..., -1.6406e+00,\n",
       "            -1.3447e+00, -2.0810e-01],\n",
       "           [ 5.8476e-01, -3.3565e-01, -1.7261e-01,  ...,  8.5520e-01,\n",
       "            -2.7352e-01, -2.0064e+00],\n",
       "           [ 7.1076e-01, -4.9869e-01, -2.3500e-01,  ..., -2.0695e+00,\n",
       "             8.4119e-01, -9.3193e-01]]]]),\n",
       " 'b': tensor([2, 2])}"
      ]
     },
     "execution_count": 26,
     "metadata": {},
     "output_type": "execute_result"
    }
   ],
   "source": [
    "next(iter(k))"
   ]
  },
  {
   "cell_type": "code",
   "execution_count": 1,
   "metadata": {},
   "outputs": [],
   "source": [
    "import cv2"
   ]
  },
  {
   "cell_type": "code",
   "execution_count": 3,
   "metadata": {},
   "outputs": [
    {
     "name": "stdout",
     "output_type": "stream",
     "text": [
      "d:\\Documents\\SelfProject\\Iseng2an\\Sports\n"
     ]
    }
   ],
   "source": [
    "%cd .."
   ]
  },
  {
   "cell_type": "code",
   "execution_count": 4,
   "metadata": {},
   "outputs": [],
   "source": [
    "from sport_iseng.data.processer import read_image"
   ]
  },
  {
   "cell_type": "code",
   "execution_count": 6,
   "metadata": {},
   "outputs": [
    {
     "data": {
      "text/plain": [
       "(224, 224, 3)"
      ]
     },
     "execution_count": 6,
     "metadata": {},
     "output_type": "execute_result"
    }
   ],
   "source": [
    "read_image(\"data/raw/img/test/archery/1.jpg\").shape"
   ]
  },
  {
   "cell_type": "code",
   "execution_count": 7,
   "metadata": {},
   "outputs": [],
   "source": [
    "from PIL import Image"
   ]
  },
  {
   "cell_type": "code",
   "execution_count": 10,
   "metadata": {},
   "outputs": [],
   "source": [
    "import numpy as np"
   ]
  },
  {
   "cell_type": "code",
   "execution_count": 12,
   "metadata": {},
   "outputs": [
    {
     "data": {
      "text/plain": [
       "(224, 224, 3)"
      ]
     },
     "execution_count": 12,
     "metadata": {},
     "output_type": "execute_result"
    }
   ],
   "source": [
    "np.array(Image.open(\"data/raw/img/test/archery/1.jpg\")).shape"
   ]
  },
  {
   "cell_type": "code",
   "execution_count": 13,
   "metadata": {},
   "outputs": [],
   "source": [
    "from torchvision import transforms"
   ]
  },
  {
   "cell_type": "code",
   "execution_count": 15,
   "metadata": {},
   "outputs": [],
   "source": [
    "tfms = transforms.Compose([transforms.Resize(224), transforms.ToTensor(),\n",
    "    transforms.Normalize([0.485, 0.456, 0.406], [0.229, 0.224, 0.225]),])\n",
    "img = tfms(Image.open(\"data/raw/img/test/archery/1.jpg\")).unsqueeze(0)"
   ]
  },
  {
   "cell_type": "code",
   "execution_count": 16,
   "metadata": {},
   "outputs": [
    {
     "data": {
      "text/plain": [
       "torch.Size([1, 3, 224, 224])"
      ]
     },
     "execution_count": 16,
     "metadata": {},
     "output_type": "execute_result"
    }
   ],
   "source": [
    "img.shape"
   ]
  },
  {
   "cell_type": "code",
   "execution_count": null,
   "metadata": {},
   "outputs": [],
   "source": []
  }
 ],
 "metadata": {
  "interpreter": {
   "hash": "5334f3f8ce79c9ae2a39bb954f64866b681efb84de6b7d321da574522bf30268"
  },
  "kernelspec": {
   "display_name": "Python 3.9.7 64-bit ('sport': conda)",
   "language": "python",
   "name": "python3"
  },
  "language_info": {
   "codemirror_mode": {
    "name": "ipython",
    "version": 3
   },
   "file_extension": ".py",
   "mimetype": "text/x-python",
   "name": "python",
   "nbconvert_exporter": "python",
   "pygments_lexer": "ipython3",
   "version": "3.9.7"
  },
  "orig_nbformat": 4
 },
 "nbformat": 4,
 "nbformat_minor": 2
}
